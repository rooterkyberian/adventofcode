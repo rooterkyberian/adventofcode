{
 "cells": [
  {
   "cell_type": "code",
   "execution_count": 3,
   "id": "579a2ad4-6b0b-433d-b653-6f2569f8015e",
   "metadata": {},
   "outputs": [],
   "source": [
    "import string\n",
    "\n",
    "item_priority = {\n",
    "    c: p for p, c in enumerate(string.ascii_lowercase + string.ascii_uppercase, start=1)\n",
    "}"
   ]
  },
  {
   "cell_type": "code",
   "execution_count": 4,
   "id": "35aebbbc-77a6-4999-9992-95d64d51026a",
   "metadata": {},
   "outputs": [],
   "source": [
    "def common_item(part1, part2):\n",
    "    for i1 in part1:\n",
    "        if i1 in part2:\n",
    "            return i1"
   ]
  },
  {
   "cell_type": "code",
   "execution_count": 5,
   "id": "6cb4f9af-9436-4888-8363-bc0bec2a6ab4",
   "metadata": {},
   "outputs": [],
   "source": [
    "def get_racksuck_prior(r):\n",
    "    p1, p2 = r[: len(r) // 2], r[len(r) // 2 :]\n",
    "    return item_priority[common_item(p1, p2)]"
   ]
  },
  {
   "cell_type": "code",
   "execution_count": 6,
   "id": "cf32e889-937c-4023-a89b-f29b67d47831",
   "metadata": {},
   "outputs": [],
   "source": [
    "data = open(\"input.txt\").read().strip()"
   ]
  },
  {
   "cell_type": "code",
   "execution_count": 7,
   "id": "4d5f40bb-63c2-47e4-9dbe-6df358b483b3",
   "metadata": {},
   "outputs": [
    {
     "data": {
      "text/plain": "7850"
     },
     "execution_count": 7,
     "metadata": {},
     "output_type": "execute_result"
    }
   ],
   "source": [
    "sum(get_racksuck_prior(r) for r in data.split())"
   ]
  },
  {
   "cell_type": "code",
   "execution_count": 8,
   "id": "b46cdbd1-65db-487c-882b-8fcd2960f3f5",
   "metadata": {},
   "outputs": [],
   "source": [
    "def common_item(part1, *parts):\n",
    "    for i1 in part1:\n",
    "        if all(i1 in part for part in parts):\n",
    "            return i1"
   ]
  },
  {
   "cell_type": "code",
   "execution_count": 9,
   "id": "68134696-ac12-41e5-820c-cb36396dd0a0",
   "metadata": {},
   "outputs": [],
   "source": [
    "def group_of_n(the_list, n):\n",
    "    return zip(*(iter(the_list),) * n)"
   ]
  },
  {
   "cell_type": "code",
   "execution_count": 10,
   "id": "9ee1f94d-cf59-414f-934c-7d5aed101b54",
   "metadata": {},
   "outputs": [
    {
     "data": {
      "text/plain": "2581"
     },
     "execution_count": 10,
     "metadata": {},
     "output_type": "execute_result"
    }
   ],
   "source": [
    "sum(item_priority[common_item(*group)] for group in group_of_n(data.split(), 3))"
   ]
  }
 ],
 "metadata": {
  "kernelspec": {
   "display_name": "Python 3 (ipykernel)",
   "language": "python",
   "name": "python3"
  },
  "language_info": {
   "codemirror_mode": {
    "name": "ipython",
    "version": 3
   },
   "file_extension": ".py",
   "mimetype": "text/x-python",
   "name": "python",
   "nbconvert_exporter": "python",
   "pygments_lexer": "ipython3",
   "version": "3.10.6"
  }
 },
 "nbformat": 4,
 "nbformat_minor": 5
}
