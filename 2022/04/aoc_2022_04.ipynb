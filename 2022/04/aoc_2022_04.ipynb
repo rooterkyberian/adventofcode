{
 "cells": [
  {
   "cell_type": "code",
   "execution_count": 1,
   "id": "1a24f1f4-327f-4739-abf0-e0146a6a88f4",
   "metadata": {},
   "outputs": [],
   "source": [
    "data = open(\"input.txt\").read().strip()"
   ]
  },
  {
   "cell_type": "code",
   "execution_count": 2,
   "id": "f152d2f0-a301-4ee3-80bf-37d7d312667e",
   "metadata": {},
   "outputs": [],
   "source": [
    "def get_range(s):\n",
    "    return tuple(map(int, s.split(\"-\")))\n",
    "\n",
    "\n",
    "def get_set(start, end):\n",
    "    return {i for i in range(start, end + 1)}\n",
    "\n",
    "\n",
    "def _rset(s):\n",
    "    return get_set(*get_range(s))\n",
    "\n",
    "\n",
    "def is_fulloverlap(l):\n",
    "    r1, r2 = map(_rset, l.split(\",\"))\n",
    "    return bool(r1 & r2)"
   ]
  },
  {
   "cell_type": "code",
   "execution_count": 3,
   "id": "ec31a318-3c7f-4532-820d-7934cdf0be18",
   "metadata": {},
   "outputs": [
    {
     "data": {
      "text/plain": "933"
     },
     "execution_count": 3,
     "metadata": {},
     "output_type": "execute_result"
    }
   ],
   "source": [
    "sum(is_fulloverlap(l) for l in data.split())"
   ]
  },
  {
   "cell_type": "code",
   "execution_count": 3,
   "id": "368e2b3a-00c0-4988-b465-7f5f96950709",
   "metadata": {},
   "outputs": [],
   "source": []
  }
 ],
 "metadata": {
  "kernelspec": {
   "display_name": "Python 3 (ipykernel)",
   "language": "python",
   "name": "python3"
  },
  "language_info": {
   "codemirror_mode": {
    "name": "ipython",
    "version": 3
   },
   "file_extension": ".py",
   "mimetype": "text/x-python",
   "name": "python",
   "nbconvert_exporter": "python",
   "pygments_lexer": "ipython3",
   "version": "3.10.6"
  }
 },
 "nbformat": 4,
 "nbformat_minor": 5
}
