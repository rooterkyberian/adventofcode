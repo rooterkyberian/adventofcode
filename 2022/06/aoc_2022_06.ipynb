{
 "cells": [
  {
   "cell_type": "code",
   "execution_count": 4,
   "id": "b140915c-4f58-4e0b-bffe-cedaa4b3069b",
   "metadata": {
    "tags": []
   },
   "outputs": [],
   "source": [
    "data = open(\"input.txt\").read().strip()"
   ]
  },
  {
   "cell_type": "code",
   "execution_count": 5,
   "id": "4703abff-4bc5-49fb-8942-f25c7dcddca0",
   "metadata": {},
   "outputs": [
    {
     "data": {
      "text/plain": "1142"
     },
     "execution_count": 5,
     "metadata": {},
     "output_type": "execute_result"
    }
   ],
   "source": [
    "def start_idx(data, c=4):\n",
    "    for i in range(len(data) - c):\n",
    "        if len(set(data[i : i + c])) == c:\n",
    "            return i + c\n",
    "\n",
    "\n",
    "start_idx(data)"
   ]
  },
  {
   "cell_type": "code",
   "execution_count": 6,
   "id": "73ba550a-8c93-40d4-80ab-2051531ce157",
   "metadata": {},
   "outputs": [
    {
     "data": {
      "text/plain": "2803"
     },
     "execution_count": 6,
     "metadata": {},
     "output_type": "execute_result"
    }
   ],
   "source": [
    "start_idx(data, 14)"
   ]
  }
 ],
 "metadata": {
  "kernelspec": {
   "display_name": "Python 3 (ipykernel)",
   "language": "python",
   "name": "python3"
  },
  "language_info": {
   "codemirror_mode": {
    "name": "ipython",
    "version": 3
   },
   "file_extension": ".py",
   "mimetype": "text/x-python",
   "name": "python",
   "nbconvert_exporter": "python",
   "pygments_lexer": "ipython3",
   "version": "3.10.6"
  }
 },
 "nbformat": 4,
 "nbformat_minor": 5
}
