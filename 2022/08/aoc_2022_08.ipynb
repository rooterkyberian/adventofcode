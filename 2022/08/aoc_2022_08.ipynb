{
 "cells": [
  {
   "cell_type": "code",
   "execution_count": 2,
   "id": "386d98c8-fdf4-4bc9-8c9b-2beda924fef8",
   "metadata": {},
   "outputs": [],
   "source": [
    "data = open(\"input.txt\").read().strip()"
   ]
  },
  {
   "cell_type": "code",
   "execution_count": 3,
   "id": "41c48e62-5fd7-40d4-bdbc-e7ca062f536a",
   "metadata": {},
   "outputs": [],
   "source": [
    "example_data = \"\"\"\n",
    "30373\n",
    "25512\n",
    "65332\n",
    "33549\n",
    "35390\n",
    "\"\"\".strip()"
   ]
  },
  {
   "cell_type": "code",
   "execution_count": 4,
   "id": "dffe3e05-1a1f-409c-b9ed-dd8656446e35",
   "metadata": {},
   "outputs": [
    {
     "data": {
      "text/plain": "1843"
     },
     "execution_count": 4,
     "metadata": {},
     "output_type": "execute_result"
    }
   ],
   "source": [
    "def tree_grid(data):\n",
    "    grid = []\n",
    "    for l in data.strip().split(\"\\n\"):\n",
    "        grid.append(list(l))\n",
    "    return grid\n",
    "\n",
    "\n",
    "def tree_visible(grid, row, col):\n",
    "    if 0 in (row, col) or row == len(grid) - 1 or col == len(grid[0]) - 1:\n",
    "        return True\n",
    "    h = grid[row][col]\n",
    "    transposed_grid = list(zip(*grid))\n",
    "    if (\n",
    "        max(grid[row][:col]) < h\n",
    "        or max(grid[row][col + 1 :]) < h\n",
    "        or max(transposed_grid[col][:row]) < h\n",
    "        or max(transposed_grid[col][row + 1 :]) < h\n",
    "    ):\n",
    "        return True\n",
    "    return False\n",
    "\n",
    "\n",
    "def task1(data):\n",
    "    grid = tree_grid(data)\n",
    "    visible_count = 0\n",
    "    for row, row_data in enumerate(grid):\n",
    "        for col, _ in enumerate(row_data):\n",
    "            visible_count += tree_visible(grid, row, col)\n",
    "    return visible_count\n",
    "\n",
    "\n",
    "task1(data)"
   ]
  },
  {
   "cell_type": "code",
   "execution_count": 5,
   "id": "153f0474-19ad-4cdd-bed6-3a704d02319c",
   "metadata": {},
   "outputs": [
    {
     "data": {
      "text/plain": "180000"
     },
     "execution_count": 5,
     "metadata": {},
     "output_type": "execute_result"
    }
   ],
   "source": [
    "def tree_scenic_score(grid, row, col):\n",
    "    if 0 in (row, col) or row == len(grid) - 1 or col == len(grid[0]) - 1:\n",
    "        return 0\n",
    "    h = grid[row][col]\n",
    "    score = 1\n",
    "    transposed_grid = list(zip(*grid))\n",
    "    for trees in (\n",
    "        reversed(grid[row][:col]),\n",
    "        (grid[row][col + 1 :]),\n",
    "        reversed(transposed_grid[col][:row]),\n",
    "        (transposed_grid[col][row + 1 :]),\n",
    "    ):\n",
    "        direction_score = 0\n",
    "        for tree in trees:\n",
    "            direction_score = direction_score + 1\n",
    "            if tree >= h:\n",
    "                break\n",
    "        score = score * direction_score\n",
    "    return score\n",
    "\n",
    "\n",
    "def task2(data):\n",
    "    grid = tree_grid(data)\n",
    "    scores = []\n",
    "    for row, row_data in enumerate(grid):\n",
    "        for col, _ in enumerate(row_data):\n",
    "            scores.append(tree_scenic_score(grid, row, col))\n",
    "    return max(scores)\n",
    "\n",
    "\n",
    "example_data2 = \"\"\"\n",
    "30373\n",
    "25512\n",
    "65332\n",
    "33549\n",
    "35390\n",
    "\"\"\".strip()\n",
    "\n",
    "task2(data)"
   ]
  },
  {
   "cell_type": "code",
   "execution_count": 5,
   "id": "61dd07c4-6932-442a-8676-6900e30cb678",
   "metadata": {},
   "outputs": [],
   "source": []
  }
 ],
 "metadata": {
  "kernelspec": {
   "display_name": "Python 3 (ipykernel)",
   "language": "python",
   "name": "python3"
  },
  "language_info": {
   "codemirror_mode": {
    "name": "ipython",
    "version": 3
   },
   "file_extension": ".py",
   "mimetype": "text/x-python",
   "name": "python",
   "nbconvert_exporter": "python",
   "pygments_lexer": "ipython3",
   "version": "3.10.6"
  }
 },
 "nbformat": 4,
 "nbformat_minor": 5
}
