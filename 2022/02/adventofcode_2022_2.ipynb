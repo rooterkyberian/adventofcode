{
 "cells": [
  {
   "cell_type": "code",
   "execution_count": 1,
   "id": "64f05905-c0f1-4484-8723-9e735af5434b",
   "metadata": {},
   "outputs": [],
   "source": [
    "shape_score = {\"A\": 1, \"B\": 2, \"C\": 3}\n",
    "\n",
    "\n",
    "def get_shape(c: str) -> str:\n",
    "    return chr(ord(c) - ord(\"X\") + ord(\"A\"))\n",
    "\n",
    "\n",
    "def predicted_score(their: str, mine: str) -> int:\n",
    "    mine = get_shape(mine)\n",
    "    score = shape_score[mine]\n",
    "    if their == mine:\n",
    "        score = score + 3\n",
    "    elif their + mine in (\"AB\", \"BC\", \"CA\"):\n",
    "        score = score + 6\n",
    "    return score"
   ]
  },
  {
   "cell_type": "code",
   "execution_count": 2,
   "id": "e0c9b39e-2e5a-42ee-a686-c4961fcc7e9a",
   "metadata": {},
   "outputs": [],
   "source": [
    "data = open(\"input.txt\").read().strip()"
   ]
  },
  {
   "cell_type": "code",
   "execution_count": 3,
   "id": "b1a0484c-2ac6-45c6-925b-80c94c50e2dd",
   "metadata": {},
   "outputs": [
    {
     "data": {
      "text/plain": "15691"
     },
     "execution_count": 3,
     "metadata": {},
     "output_type": "execute_result"
    }
   ],
   "source": [
    "# task 1\n",
    "sum(predicted_score(*l.split()) for l in data.split(\"\\n\"))"
   ]
  },
  {
   "cell_type": "code",
   "execution_count": 4,
   "id": "5ba01292-3854-413e-8674-b57826c2e526",
   "metadata": {},
   "outputs": [
    {
     "data": {
      "text/plain": "12989"
     },
     "execution_count": 4,
     "metadata": {},
     "output_type": "execute_result"
    }
   ],
   "source": [
    "# task 2\n",
    "\n",
    "win = {their: mine for their, mine in (\"AB\", \"BC\", \"CA\")}\n",
    "\n",
    "\n",
    "def predicted_score2(their: str, outcome: str) -> int:\n",
    "    score = 0\n",
    "    if outcome == \"Y\":\n",
    "        mine = their\n",
    "        score = score + 3\n",
    "    elif outcome == \"X\":\n",
    "        for mine in \"ABC\":\n",
    "            if mine not in (win[their], their):\n",
    "                break\n",
    "    elif outcome == \"Z\":\n",
    "        mine = win[their]\n",
    "        score = score + 6\n",
    "\n",
    "    return score + shape_score[mine]\n",
    "\n",
    "\n",
    "sum(predicted_score2(*l.split()) for l in data.split(\"\\n\"))"
   ]
  }
 ],
 "metadata": {
  "kernelspec": {
   "display_name": "Python 3 (ipykernel)",
   "language": "python",
   "name": "python3"
  },
  "language_info": {
   "codemirror_mode": {
    "name": "ipython",
    "version": 3
   },
   "file_extension": ".py",
   "mimetype": "text/x-python",
   "name": "python",
   "nbconvert_exporter": "python",
   "pygments_lexer": "ipython3",
   "version": "3.10.6"
  }
 },
 "nbformat": 4,
 "nbformat_minor": 5
}
