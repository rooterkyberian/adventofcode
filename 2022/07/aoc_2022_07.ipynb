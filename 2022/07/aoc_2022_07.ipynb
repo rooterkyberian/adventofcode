{
 "cells": [
  {
   "cell_type": "code",
   "execution_count": 6,
   "id": "61a8ae28-0264-4a1e-bcea-9c1097d16497",
   "metadata": {},
   "outputs": [],
   "source": [
    "data = open(\"input.txt\").read().strip()"
   ]
  },
  {
   "cell_type": "code",
   "execution_count": 7,
   "id": "14f74a2d-84b8-41f1-ba50-0dcda50d37dc",
   "metadata": {},
   "outputs": [
    {
     "data": {
      "text/plain": "1453349"
     },
     "execution_count": 7,
     "metadata": {},
     "output_type": "execute_result"
    }
   ],
   "source": [
    "def get_dirs(data):\n",
    "    root = {}\n",
    "    cur_dir = root\n",
    "    for line in data.split(\"\\n\"):\n",
    "        cmd = line.split()\n",
    "        if cmd[0] == \"$\":\n",
    "            if cmd[1] == \"cd\":\n",
    "                if cmd[2] == \"/\":\n",
    "                    cur_path = root\n",
    "                elif cmd[2] == \"..\":\n",
    "                    cur_dir = cur_dir[\"..\"]\n",
    "                else:\n",
    "                    cur_dir = cur_dir.setdefault(cmd[2], {\"..\": cur_dir})\n",
    "        elif cmd[0] == \"dir\":\n",
    "            cur_dir.setdefault(cmd[1], {\"..\": cur_dir})\n",
    "        else:\n",
    "            cur_dir[cmd[1]] = int(cmd[0])\n",
    "    return root\n",
    "\n",
    "\n",
    "def diskusage(dir_):\n",
    "    stack = [dir_]\n",
    "    size = 0\n",
    "    while stack:\n",
    "        e = stack.pop()\n",
    "        if isinstance(e, dict):\n",
    "            stack.extend(child for n, child in e.items() if n != \"..\")\n",
    "        elif isinstance(e, int):\n",
    "            size = size + e\n",
    "    return size\n",
    "\n",
    "\n",
    "def task1(dir_):\n",
    "    size = 0\n",
    "    stack = [dir_]\n",
    "    while stack:\n",
    "        e = stack.pop()\n",
    "        s = diskusage(e)\n",
    "        if s < 100000:\n",
    "            size = size + s\n",
    "        for n, e in e.items():\n",
    "            if n == \"..\":\n",
    "                continue\n",
    "            if isinstance(e, dict):\n",
    "                stack.append(e)\n",
    "    return size\n",
    "\n",
    "\n",
    "task1(get_dirs(data))"
   ]
  },
  {
   "cell_type": "code",
   "execution_count": 8,
   "outputs": [
    {
     "data": {
      "text/plain": "2948823"
     },
     "execution_count": 8,
     "metadata": {},
     "output_type": "execute_result"
    }
   ],
   "source": [
    "def task2(dir_):\n",
    "    free_space = 70000000 - diskusage(dir_)\n",
    "    req = 30000000 - free_space\n",
    "    sizes = []\n",
    "    stack = [dir_]\n",
    "    while stack:\n",
    "        e = stack.pop()\n",
    "        s = diskusage(e)\n",
    "        if s >= req:\n",
    "            sizes.append(s)\n",
    "        for n, e in e.items():\n",
    "            if n == \"..\":\n",
    "                continue\n",
    "            if isinstance(e, dict):\n",
    "                stack.append(e)\n",
    "    return min(sizes)\n",
    "\n",
    "\n",
    "task2(get_dirs(data))"
   ],
   "metadata": {
    "collapsed": false
   }
  }
 ],
 "metadata": {
  "kernelspec": {
   "display_name": "Python 3 (ipykernel)",
   "language": "python",
   "name": "python3"
  },
  "language_info": {
   "codemirror_mode": {
    "name": "ipython",
    "version": 3
   },
   "file_extension": ".py",
   "mimetype": "text/x-python",
   "name": "python",
   "nbconvert_exporter": "python",
   "pygments_lexer": "ipython3",
   "version": "3.10.6"
  }
 },
 "nbformat": 4,
 "nbformat_minor": 5
}
