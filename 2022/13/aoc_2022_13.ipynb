{
 "cells": [
  {
   "cell_type": "code",
   "execution_count": 1,
   "id": "970cd1db-49ce-411c-8de3-a79c4e6d493d",
   "metadata": {},
   "outputs": [],
   "source": [
    "example1 = \"\"\"\n",
    "[1,1,3,1,1]\n",
    "[1,1,5,1,1]\n",
    "\n",
    "[[1],[2,3,4]]\n",
    "[[1],4]\n",
    "\n",
    "[9]\n",
    "[[8,7,6]]\n",
    "\n",
    "[[4,4],4,4]\n",
    "[[4,4],4,4,4]\n",
    "\n",
    "[7,7,7,7]\n",
    "[7,7,7]\n",
    "\n",
    "[]\n",
    "[3]\n",
    "\n",
    "[[[]]]\n",
    "[[]]\n",
    "\n",
    "[1,[2,[3,[4,[5,6,7]]]],8,9]\n",
    "[1,[2,[3,[4,[5,6,0]]]],8,9]\n",
    "\"\"\"\n",
    "import itertools\n",
    "import json\n",
    "from functools import cmp_to_key\n",
    "\n",
    "data = open(\"input.txt\").read()"
   ]
  },
  {
   "cell_type": "code",
   "execution_count": 2,
   "id": "c7c962f6-54ac-447e-885c-391d1a4917e8",
   "metadata": {},
   "outputs": [],
   "source": [
    "def _ensure_list(v):\n",
    "    return v if isinstance(v, list) else [v]\n",
    "\n",
    "\n",
    "def is_right_order(left, right):\n",
    "    if left is None:\n",
    "        return True\n",
    "    if right is None:\n",
    "        return False\n",
    "    if left == right:\n",
    "        return None\n",
    "    if isinstance(left, int) and isinstance(right, int):\n",
    "        return left < right\n",
    "    if isinstance(left, list) and isinstance(right, list):\n",
    "        for a, b in itertools.zip_longest(left, right, fillvalue=None):\n",
    "            r = is_right_order(a, b)\n",
    "            if r:\n",
    "                return True\n",
    "            elif r is False:\n",
    "                return r\n",
    "        return True\n",
    "    return is_right_order(_ensure_list(left), _ensure_list(right))\n",
    "\n",
    "\n",
    "def task1(data):\n",
    "    s = 0\n",
    "    for i, pair in enumerate(data.strip().split(\"\\n\\n\"), start=1):\n",
    "        left, right = map(json.loads, pair.split())\n",
    "        ret = is_right_order(left, right)\n",
    "        if ret:\n",
    "            s += i\n",
    "    return s"
   ]
  },
  {
   "cell_type": "code",
   "execution_count": 3,
   "id": "f88b4eca-70d0-46c1-8da9-67046e191048",
   "metadata": {},
   "outputs": [
    {
     "data": {
      "text/plain": "13"
     },
     "execution_count": 3,
     "metadata": {},
     "output_type": "execute_result"
    }
   ],
   "source": [
    "task1(example1)"
   ]
  },
  {
   "cell_type": "code",
   "execution_count": 4,
   "id": "47d5ebe4-33bd-468c-a130-9304e5eb79d0",
   "metadata": {},
   "outputs": [
    {
     "data": {
      "text/plain": "5529"
     },
     "execution_count": 4,
     "metadata": {},
     "output_type": "execute_result"
    }
   ],
   "source": [
    "task1(data)"
   ]
  },
  {
   "cell_type": "code",
   "execution_count": 5,
   "id": "a78c9835-6bcc-4c19-a6d8-5ec80d688927",
   "metadata": {},
   "outputs": [
    {
     "data": {
      "text/plain": "140"
     },
     "execution_count": 5,
     "metadata": {},
     "output_type": "execute_result"
    }
   ],
   "source": [
    "def task2(data):\n",
    "    div_packets = [\n",
    "        [[2]],\n",
    "        [[6]],\n",
    "    ]\n",
    "    packets = [*div_packets]\n",
    "    for i, pair in enumerate(data.strip().split(\"\\n\\n\"), start=1):\n",
    "        left, right = map(json.loads, pair.split())\n",
    "        packets.extend((left, right))\n",
    "    packets.sort(key=cmp_to_key(lambda a, b: -1 if is_right_order(a, b) else 1))\n",
    "\n",
    "    def idx(p):\n",
    "        return packets.index(p) + 1\n",
    "\n",
    "    return idx(div_packets[0]) * idx(div_packets[1])\n",
    "\n",
    "\n",
    "task2(example1)"
   ]
  },
  {
   "cell_type": "code",
   "execution_count": 6,
   "id": "fddbe1d5-e2ba-44de-91bd-1c87b91dacb4",
   "metadata": {},
   "outputs": [
    {
     "data": {
      "text/plain": "27690"
     },
     "execution_count": 6,
     "metadata": {},
     "output_type": "execute_result"
    }
   ],
   "source": [
    "task2(data)"
   ]
  },
  {
   "cell_type": "code",
   "execution_count": 6,
   "id": "dc322064-490c-4929-9f58-18b10b8a02a2",
   "metadata": {},
   "outputs": [],
   "source": []
  }
 ],
 "metadata": {
  "kernelspec": {
   "display_name": "Python 3 (ipykernel)",
   "language": "python",
   "name": "python3"
  },
  "language_info": {
   "codemirror_mode": {
    "name": "ipython",
    "version": 3
   },
   "file_extension": ".py",
   "mimetype": "text/x-python",
   "name": "python",
   "nbconvert_exporter": "python",
   "pygments_lexer": "ipython3",
   "version": "3.10.6"
  }
 },
 "nbformat": 4,
 "nbformat_minor": 5
}
