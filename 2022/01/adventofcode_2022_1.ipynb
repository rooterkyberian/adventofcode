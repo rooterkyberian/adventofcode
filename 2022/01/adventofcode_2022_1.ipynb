{
 "cells": [
  {
   "cell_type": "code",
   "execution_count": 1,
   "id": "d6d39660-b946-4de5-bb00-a84c30efe5c5",
   "metadata": {},
   "outputs": [],
   "source": [
    "data = open(\"input.txt\").read().strip()"
   ]
  },
  {
   "cell_type": "code",
   "execution_count": 2,
   "id": "d3bf5d0d-2439-4488-b694-b9dc280494c7",
   "metadata": {},
   "outputs": [],
   "source": [
    "elves_c = [sum(int(l) for l in e_data.split()) for e_data in data.strip().split(\"\\n\\n\")]"
   ]
  },
  {
   "cell_type": "code",
   "execution_count": 3,
   "id": "5a511277-dd15-4b8c-9d34-fa0e86ab1eda",
   "metadata": {},
   "outputs": [
    {
     "data": {
      "text/plain": "71023"
     },
     "execution_count": 3,
     "metadata": {},
     "output_type": "execute_result"
    }
   ],
   "source": [
    "max(elves_c)"
   ]
  },
  {
   "cell_type": "code",
   "execution_count": 4,
   "id": "a3ba2154-7bef-4fe8-8d6b-609b3b3e8b9c",
   "metadata": {},
   "outputs": [
    {
     "data": {
      "text/plain": "206289"
     },
     "execution_count": 4,
     "metadata": {},
     "output_type": "execute_result"
    }
   ],
   "source": [
    "sum(sorted(elves_c)[-3:])"
   ]
  }
 ],
 "metadata": {
  "kernelspec": {
   "display_name": "Python 3 (ipykernel)",
   "language": "python",
   "name": "python3"
  },
  "language_info": {
   "codemirror_mode": {
    "name": "ipython",
    "version": 3
   },
   "file_extension": ".py",
   "mimetype": "text/x-python",
   "name": "python",
   "nbconvert_exporter": "python",
   "pygments_lexer": "ipython3",
   "version": "3.10.6"
  }
 },
 "nbformat": 4,
 "nbformat_minor": 5
}
