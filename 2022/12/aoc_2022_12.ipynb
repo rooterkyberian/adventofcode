{
 "cells": [
  {
   "cell_type": "code",
   "execution_count": 1,
   "id": "14a6dd2e-78c4-40d0-826c-d972ab67f5da",
   "metadata": {},
   "outputs": [],
   "source": [
    "example1 = \"\"\"\n",
    "Sabqponm\n",
    "abcryxxl\n",
    "accszExk\n",
    "acctuvwj\n",
    "abdefghi\n",
    "\"\"\""
   ]
  },
  {
   "cell_type": "code",
   "execution_count": 2,
   "id": "2fb689eb-0d0c-4142-bc8e-751280367718",
   "metadata": {},
   "outputs": [],
   "source": [
    "import string\n",
    "from pprint import pprint\n",
    "\n",
    "data = open(\"input.txt\").read()"
   ]
  },
  {
   "cell_type": "code",
   "execution_count": 3,
   "id": "278fe08e-7d5c-47ec-8485-e1fbe7825cd6",
   "metadata": {},
   "outputs": [
    {
     "data": {
      "text/plain": "31"
     },
     "execution_count": 3,
     "metadata": {},
     "output_type": "execute_result"
    }
   ],
   "source": [
    "def get_map(data):\n",
    "    start = None\n",
    "    target = None\n",
    "    map_ = []\n",
    "    for y, l in enumerate(data.strip().split(\"\\n\")):\n",
    "        try:\n",
    "            start = [l.index(\"S\"), y]\n",
    "        except ValueError:\n",
    "            pass\n",
    "        try:\n",
    "            target = [l.index(\"E\"), y]\n",
    "        except ValueError:\n",
    "            pass\n",
    "        l = l.replace(\"S\", \"a\").replace(\"E\", \"z\")\n",
    "        map_.append(list(l))\n",
    "    return map_, start, target\n",
    "\n",
    "\n",
    "def height(c):\n",
    "    return string.ascii_lowercase.index(c)\n",
    "\n",
    "\n",
    "def _shortest(map_, start, target, path, shadow_map=None):\n",
    "    if not shadow_map:\n",
    "        shadow_map = [[None for c in row] for row in map_]\n",
    "    if start == target:\n",
    "        yield path\n",
    "        return\n",
    "    path.append(start)\n",
    "\n",
    "    cur_h = height(map_[start[1]][start[0]])\n",
    "    old_path = shadow_map[start[1]][start[0]]\n",
    "    if old_path and len(path) >= len(old_path):\n",
    "        return\n",
    "    shadow_map[start[1]][start[0]] = path\n",
    "\n",
    "    for x, y in sorted(\n",
    "        (\n",
    "            (start[0] - 1, start[1]),\n",
    "            (start[0] + 1, start[1]),\n",
    "            (start[0], start[1] - 1),\n",
    "            (start[0], start[1] + 1),\n",
    "        ),\n",
    "        key=lambda next_: abs(target[0] - next_[0]) + abs(target[1] - next_[1]),\n",
    "    ):\n",
    "        if x < 0 or y < 0 or y >= len(map_) or x >= len(map_[0]):\n",
    "            continue\n",
    "        next_c = map_[y][x]\n",
    "        if next_c == \".\":\n",
    "            continue\n",
    "        next_h = height(next_c)\n",
    "        if next_h - cur_h <= 1:\n",
    "            yield from _shortest(map_, [x, y], target, list(path), shadow_map)\n",
    "\n",
    "\n",
    "def shortest(data, path=None):\n",
    "    map_, start, target = get_map(data)\n",
    "    for path in sorted(_shortest(map_, start, target, []), key=len):\n",
    "        return path\n",
    "\n",
    "\n",
    "def task1(data):\n",
    "    return len(shortest(data))\n",
    "\n",
    "\n",
    "task1(example1)"
   ]
  },
  {
   "cell_type": "code",
   "execution_count": 4,
   "id": "df9a6dc6-9e9e-488a-a92c-3bbbe4d80882",
   "metadata": {},
   "outputs": [
    {
     "data": {
      "text/plain": "361"
     },
     "execution_count": 4,
     "metadata": {},
     "output_type": "execute_result"
    }
   ],
   "source": [
    "task1(data)"
   ]
  },
  {
   "cell_type": "code",
   "execution_count": 5,
   "id": "6d5128e3-c261-4be0-b119-496642a5263a",
   "metadata": {},
   "outputs": [
    {
     "data": {
      "text/plain": "29"
     },
     "execution_count": 5,
     "metadata": {},
     "output_type": "execute_result"
    }
   ],
   "source": [
    "def task2(data):\n",
    "    map_, start, target = get_map(data)\n",
    "    paths = []\n",
    "    shadow_map = [[None for c in row] for row in map_]\n",
    "    for y, row in enumerate(map_):\n",
    "        for x, c in enumerate(row):\n",
    "            if c == \"a\":\n",
    "                paths.extend(_shortest(map_, [x, y], target, [], shadow_map))\n",
    "    return len(sorted(paths, key=len)[0])\n",
    "\n",
    "\n",
    "task2(example1)"
   ]
  },
  {
   "cell_type": "code",
   "execution_count": 6,
   "id": "726ce6ae-64c7-4d07-92f8-34502e816f7c",
   "metadata": {},
   "outputs": [
    {
     "data": {
      "text/plain": "354"
     },
     "execution_count": 6,
     "metadata": {},
     "output_type": "execute_result"
    }
   ],
   "source": [
    "task2(data)"
   ]
  }
 ],
 "metadata": {
  "kernelspec": {
   "display_name": "Python 3 (ipykernel)",
   "language": "python",
   "name": "python3"
  },
  "language_info": {
   "codemirror_mode": {
    "name": "ipython",
    "version": 3
   },
   "file_extension": ".py",
   "mimetype": "text/x-python",
   "name": "python",
   "nbconvert_exporter": "python",
   "pygments_lexer": "ipython3",
   "version": "3.10.6"
  }
 },
 "nbformat": 4,
 "nbformat_minor": 5
}
